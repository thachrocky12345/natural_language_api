{
 "metadata": {
  "name": "",
  "signature": "sha256:c1d3c9498e8439cc0f802eeed0902a23c86fd93ea2b52a64f389d3a306529c4a"
 },
 "nbformat": 3,
 "nbformat_minor": 0,
 "worksheets": [
  {
   "cells": [
    {
     "cell_type": "code",
     "collapsed": false,
     "input": [],
     "language": "python",
     "metadata": {},
     "outputs": [],
     "prompt_number": 3
    },
    {
     "cell_type": "code",
     "collapsed": false,
     "input": [
      "import sys\n",
      "sys.path.append(\"/opt/sources/\")"
     ],
     "language": "python",
     "metadata": {},
     "outputs": [],
     "prompt_number": 2
    },
    {
     "cell_type": "code",
     "collapsed": false,
     "input": [
      "\n",
      "from textblob import download_corpora, TextBlob\n",
      "download_corpora.main()"
     ],
     "language": "python",
     "metadata": {},
     "outputs": [
      {
       "output_type": "stream",
       "stream": "stdout",
       "text": [
        "[nltk_data] Downloading package brown to /home/thachbui/nltk_data...\n",
        "[nltk_data]   Package brown is already up-to-date!\n",
        "[nltk_data] Downloading package punkt to /home/thachbui/nltk_data...\n",
        "[nltk_data]   Package punkt is already up-to-date!"
       ]
      },
      {
       "output_type": "stream",
       "stream": "stdout",
       "text": [
        "\n",
        "[nltk_data] Downloading package wordnet to /home/thachbui/nltk_data...\n",
        "[nltk_data]   Package wordnet is already up-to-date!\n",
        "[nltk_data] Downloading package averaged_perceptron_tagger to\n",
        "[nltk_data]     /home/thachbui/nltk_data...\n",
        "[nltk_data]   Package averaged_perceptron_tagger is already up-to-\n",
        "[nltk_data]       date!\n",
        "[nltk_data] Downloading package conll2000 to\n",
        "[nltk_data]     /home/thachbui/nltk_data...\n",
        "[nltk_data]   Package conll2000 is already up-to-date!\n",
        "[nltk_data] Downloading package movie_reviews to\n",
        "[nltk_data]     /home/thachbui/nltk_data...\n",
        "[nltk_data]   Package movie_reviews is already up-to-date!"
       ]
      },
      {
       "output_type": "stream",
       "stream": "stdout",
       "text": [
        "\n",
        "Finished.\n"
       ]
      }
     ],
     "prompt_number": 12
    },
    {
     "cell_type": "code",
     "collapsed": false,
     "input": [
      "wiki = TextBlob(\"\"\"\n",
      "Siraj is angry that he never gets good matches on Tinder\n",
      "\"\"\")"
     ],
     "language": "python",
     "metadata": {},
     "outputs": [],
     "prompt_number": 13
    },
    {
     "cell_type": "code",
     "collapsed": false,
     "input": [
      "wiki.tags"
     ],
     "language": "python",
     "metadata": {},
     "outputs": [
      {
       "metadata": {},
       "output_type": "pyout",
       "prompt_number": 14,
       "text": [
        "[('Siraj', u'NNP'),\n",
        " ('is', u'VBZ'),\n",
        " ('angry', u'JJ'),\n",
        " ('that', u'IN'),\n",
        " ('he', u'PRP'),\n",
        " ('never', u'RB'),\n",
        " ('gets', u'VBZ'),\n",
        " ('good', u'JJ'),\n",
        " ('matches', u'NNS'),\n",
        " ('on', u'IN'),\n",
        " ('Tinder', u'NN')]"
       ]
      }
     ],
     "prompt_number": 14
    },
    {
     "cell_type": "code",
     "collapsed": false,
     "input": [
      "wiki.words"
     ],
     "language": "python",
     "metadata": {},
     "outputs": [
      {
       "metadata": {},
       "output_type": "pyout",
       "prompt_number": 15,
       "text": [
        "WordList(['Siraj', 'is', 'angry', 'that', 'he', 'never', 'gets', 'good', 'matches', 'on', 'Tinder'])"
       ]
      }
     ],
     "prompt_number": 15
    },
    {
     "cell_type": "code",
     "collapsed": false,
     "input": [
      "wiki.sentiment.polarity"
     ],
     "language": "python",
     "metadata": {},
     "outputs": [
      {
       "metadata": {},
       "output_type": "pyout",
       "prompt_number": 18,
       "text": [
        "0.8"
       ]
      }
     ],
     "prompt_number": 18
    },
    {
     "cell_type": "code",
     "collapsed": false,
     "input": [
      "wiki = TextBlob(\"\"\"\n",
      "Platt's reports ~3M bbl/day of refining capacity remains down in Texas, or 16% of U.S. capacity, and assuming refiners cutting runs or in the process of returning are at 50% of capacity, the total downed capacity rises to 4M bbl/day, or 22% of the U.S. total.\n",
      "\"\"\")\n",
      "print wiki.sentiment.polarity"
     ],
     "language": "python",
     "metadata": {},
     "outputs": [
      {
       "output_type": "stream",
       "stream": "stdout",
       "text": [
        "-0.188888888889\n"
       ]
      }
     ],
     "prompt_number": 25
    },
    {
     "cell_type": "code",
     "collapsed": false,
     "input": [
      "\"https://developers.facebook.com/tools/access_token/\"\n",
      "\n"
     ],
     "language": "python",
     "metadata": {},
     "outputs": []
    },
    {
     "cell_type": "code",
     "collapsed": false,
     "input": [
      "wiki = TextBlob(\"\"\"\n",
      "The company just sent invites out to press with a note: \"Let's meet at our place. Please join us for the first-ever event at the Steve Jobs Theater in Cupertino.\" That would mean this is the first event at the new campus.\n",
      "\n",
      "Apple is expected to unveil three new iPhones, including the iPhone 7s, iPhone 7s Plus and iPhone 8. The new iPhone 8 is expected to be the biggest change to the iPhone in a long time, with a full-phone screen, no home button, and new augmented reality technology that will blend images from the real world with computer-generated images on your phone screen.\n",
      "\n",
      "A 4K Apple TV is also reportedly on the docket, and we'll likely learn more about new features in iOS 11. Apple may also announced a new Apple Watch with its own cellular connection, which would allow owners to use it without having to carry an iPhone at the same time.\n",
      "\"\"\")\n",
      "print wiki.sentiment.polarity"
     ],
     "language": "python",
     "metadata": {},
     "outputs": [
      {
       "output_type": "stream",
       "stream": "stdout",
       "text": [
        "0.112855113636\n"
       ]
      }
     ],
     "prompt_number": 27
    },
    {
     "cell_type": "code",
     "collapsed": false,
     "input": [],
     "language": "python",
     "metadata": {},
     "outputs": []
    }
   ],
   "metadata": {}
  }
 ]
}